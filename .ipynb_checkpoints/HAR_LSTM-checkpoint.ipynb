{
 "cells": [
  {
   "cell_type": "code",
   "execution_count": 1,
   "metadata": {},
   "outputs": [],
   "source": [
    "# Importing Libraries\n",
    "import pandas as pd\n",
    "import numpy as np\n",
    "import matplotlib.pyplot as plt"
   ]
  },
  {
   "cell_type": "code",
   "execution_count": 2,
   "metadata": {},
   "outputs": [],
   "source": [
    "# Activities are the class labels\n",
    "# It is a 6 class classification\n",
    "ACTIVITIES = {\n",
    "    0: 'WALKING',\n",
    "    1: 'WALKING_UPSTAIRS',\n",
    "    2: 'WALKING_DOWNSTAIRS',\n",
    "    3: 'SITTING',\n",
    "    4: 'STANDING',\n",
    "    5: 'LAYING',\n",
    "}\n",
    "\n",
    "# Utility function to print the confusion matrix\n",
    "def confusion_matrix(Y_true, Y_pred):\n",
    "    Y_true = pd.Series([ACTIVITIES[y] for y in np.argmax(Y_true, axis=1)])\n",
    "    Y_pred = pd.Series([ACTIVITIES[y] for y in np.argmax(Y_pred, axis=1)])\n",
    "\n",
    "    return pd.crosstab(Y_true, Y_pred, rownames=['True'], colnames=['Pred'])"
   ]
  },
  {
   "cell_type": "markdown",
   "metadata": {},
   "source": [
    "### Data"
   ]
  },
  {
   "cell_type": "code",
   "execution_count": 3,
   "metadata": {},
   "outputs": [],
   "source": [
    "# Data directory\n",
    "DATADIR = 'UCI_HAR_Dataset'"
   ]
  },
  {
   "cell_type": "code",
   "execution_count": 4,
   "metadata": {},
   "outputs": [],
   "source": [
    "# Raw data signals\n",
    "# Signals are from Accelerometer and Gyroscope\n",
    "# The signals are in x,y,z directions\n",
    "# Sensor signals are filtered to have only body acceleration\n",
    "# excluding the acceleration due to gravity\n",
    "# Triaxial acceleration from the accelerometer is total acceleration\n",
    "SIGNALS = [\n",
    "    \"body_acc_x\",\n",
    "    \"body_acc_y\",\n",
    "    \"body_acc_z\",\n",
    "    \"body_gyro_x\",\n",
    "    \"body_gyro_y\",\n",
    "    \"body_gyro_z\",\n",
    "    \"total_acc_x\",\n",
    "    \"total_acc_y\",\n",
    "    \"total_acc_z\"\n",
    "]"
   ]
  },
  {
   "cell_type": "code",
   "execution_count": 5,
   "metadata": {},
   "outputs": [],
   "source": [
    "# Utility function to read the data from csv file\n",
    "def _read_csv(filename):\n",
    "    return pd.read_csv(filename, delim_whitespace=True, header=None)\n",
    "\n",
    "# Utility function to load the load\n",
    "def load_signals(subset):\n",
    "    signals_data = []\n",
    "\n",
    "    for signal in SIGNALS:\n",
    "        filename = f'UCI_HAR_Dataset/{subset}/Inertial Signals/{signal}_{subset}.txt'\n",
    "        signals_data.append(\n",
    "            _read_csv(filename).as_matrix()\n",
    "        ) \n",
    "\n",
    "    # Transpose is used to change the dimensionality of the output,\n",
    "    # aggregating the signals by combination of sample/timestep.\n",
    "    # Resultant shape is (7352 train/2947 test samples, 128 timesteps, 9 signals)\n",
    "    return np.transpose(signals_data, (1, 2, 0))"
   ]
  },
  {
   "cell_type": "code",
   "execution_count": 6,
   "metadata": {},
   "outputs": [],
   "source": [
    "\n",
    "def load_y(subset):\n",
    "    \"\"\"\n",
    "    The objective that we are trying to predict is a integer, from 1 to 6,\n",
    "    that represents a human activity. We return a binary representation of \n",
    "    every sample objective as a 6 bits vector using One Hot Encoding\n",
    "    (https://pandas.pydata.org/pandas-docs/stable/generated/pandas.get_dummies.html)\n",
    "    \"\"\"\n",
    "    filename = f'UCI_HAR_Dataset/{subset}/y_{subset}.txt'\n",
    "    y = _read_csv(filename)[0]\n",
    "\n",
    "    return pd.get_dummies(y).as_matrix()"
   ]
  },
  {
   "cell_type": "code",
   "execution_count": 7,
   "metadata": {},
   "outputs": [],
   "source": [
    "def load_data():\n",
    "    \"\"\"\n",
    "    Obtain the dataset from multiple files.\n",
    "    Returns: X_train, X_test, y_train, y_test\n",
    "    \"\"\"\n",
    "    X_train, X_test = load_signals('train'), load_signals('test')\n",
    "    y_train, y_test = load_y('train'), load_y('test')\n",
    "\n",
    "    return X_train, X_test, y_train, y_test"
   ]
  },
  {
   "cell_type": "code",
   "execution_count": 8,
   "metadata": {},
   "outputs": [],
   "source": [
    "# Importing tensorflow\n",
    "np.random.seed(42)\n",
    "import tensorflow as tf\n",
    "tf.set_random_seed(42)"
   ]
  },
  {
   "cell_type": "code",
   "execution_count": 9,
   "metadata": {},
   "outputs": [],
   "source": [
    "# Configuring a session\n",
    "session_conf = tf.ConfigProto(\n",
    "    intra_op_parallelism_threads=1,\n",
    "    inter_op_parallelism_threads=1\n",
    ")"
   ]
  },
  {
   "cell_type": "code",
   "execution_count": 10,
   "metadata": {},
   "outputs": [
    {
     "name": "stderr",
     "output_type": "stream",
     "text": [
      "Using TensorFlow backend.\n"
     ]
    }
   ],
   "source": [
    "# Import Keras\n",
    "from keras import backend as K\n",
    "sess = tf.Session(graph=tf.get_default_graph(), config=session_conf)\n",
    "K.set_session(sess)"
   ]
  },
  {
   "cell_type": "code",
   "execution_count": 11,
   "metadata": {},
   "outputs": [],
   "source": [
    "# Importing libraries\n",
    "from keras.models import Sequential\n",
    "from keras.layers import LSTM\n",
    "from keras.layers.core import Dense, Dropout"
   ]
  },
  {
   "cell_type": "code",
   "execution_count": 12,
   "metadata": {},
   "outputs": [],
   "source": [
    "# Initializing parameters\n",
    "epochs = 30\n",
    "batch_size = 16\n",
    "n_hidden = 32"
   ]
  },
  {
   "cell_type": "code",
   "execution_count": 13,
   "metadata": {},
   "outputs": [],
   "source": [
    "# Utility function to count the number of classes\n",
    "def _count_classes(y):\n",
    "    return len(set([tuple(category) for category in y]))"
   ]
  },
  {
   "cell_type": "code",
   "execution_count": 14,
   "metadata": {},
   "outputs": [
    {
     "name": "stderr",
     "output_type": "stream",
     "text": [
      "/home/shekhar_bavanari/anaconda3/envs/appliedai/lib/python3.6/site-packages/ipykernel_launcher.py:12: FutureWarning: Method .as_matrix will be removed in a future version. Use .values instead.\n",
      "  if sys.path[0] == '':\n"
     ]
    }
   ],
   "source": [
    "# Loading the train and test data\n",
    "X_train, X_test, Y_train, Y_test = load_data()"
   ]
  },
  {
   "cell_type": "code",
   "execution_count": 15,
   "metadata": {},
   "outputs": [
    {
     "name": "stdout",
     "output_type": "stream",
     "text": [
      "128\n",
      "9\n",
      "7352\n"
     ]
    }
   ],
   "source": [
    "timesteps = len(X_train[0])\n",
    "input_dim = len(X_train[0][0])\n",
    "n_classes = _count_classes(Y_train)\n",
    "\n",
    "print(timesteps)\n",
    "print(input_dim)\n",
    "print(len(X_train))"
   ]
  },
  {
   "cell_type": "markdown",
   "metadata": {},
   "source": [
    "## 1 layer - 32 LSTM - 0.5 Dropout"
   ]
  },
  {
   "cell_type": "code",
   "execution_count": 91,
   "metadata": {},
   "outputs": [
    {
     "name": "stdout",
     "output_type": "stream",
     "text": [
      "_________________________________________________________________\n",
      "Layer (type)                 Output Shape              Param #   \n",
      "=================================================================\n",
      "lstm_3 (LSTM)                (None, 32)                5376      \n",
      "_________________________________________________________________\n",
      "dropout_3 (Dropout)          (None, 32)                0         \n",
      "_________________________________________________________________\n",
      "dense_3 (Dense)              (None, 6)                 198       \n",
      "=================================================================\n",
      "Total params: 5,574\n",
      "Trainable params: 5,574\n",
      "Non-trainable params: 0\n",
      "_________________________________________________________________\n"
     ]
    }
   ],
   "source": [
    "# Initiliazing the sequential model\n",
    "model = Sequential()\n",
    "# Configuring the parameters\n",
    "model.add(LSTM(n_hidden, input_shape=(timesteps, input_dim)))\n",
    "# Adding a dropout layer\n",
    "model.add(Dropout(0.5))\n",
    "# Adding a dense output layer with sigmoid activation\n",
    "model.add(Dense(n_classes, activation='sigmoid'))\n",
    "model.summary()"
   ]
  },
  {
   "cell_type": "code",
   "execution_count": 22,
   "metadata": {
    "collapsed": true
   },
   "outputs": [],
   "source": [
    "# Compiling the model\n",
    "model.compile(loss='categorical_crossentropy',\n",
    "              optimizer='rmsprop',\n",
    "              metrics=['accuracy'])"
   ]
  },
  {
   "cell_type": "code",
   "execution_count": 23,
   "metadata": {},
   "outputs": [
    {
     "name": "stdout",
     "output_type": "stream",
     "text": [
      "Train on 7352 samples, validate on 2947 samples\n",
      "Epoch 1/30\n",
      "7352/7352 [==============================] - 92s 13ms/step - loss: 1.3018 - acc: 0.4395 - val_loss: 1.1254 - val_acc: 0.4662\n",
      "Epoch 2/30\n",
      "7352/7352 [==============================] - 94s 13ms/step - loss: 0.9666 - acc: 0.5880 - val_loss: 0.9491 - val_acc: 0.5714\n",
      "Epoch 3/30\n",
      "7352/7352 [==============================] - 97s 13ms/step - loss: 0.7812 - acc: 0.6408 - val_loss: 0.8286 - val_acc: 0.5850\n",
      "Epoch 4/30\n",
      "7352/7352 [==============================] - 95s 13ms/step - loss: 0.6941 - acc: 0.6574 - val_loss: 0.7297 - val_acc: 0.6128\n",
      "Epoch 5/30\n",
      "7352/7352 [==============================] - 92s 13ms/step - loss: 0.6336 - acc: 0.6912 - val_loss: 0.7359 - val_acc: 0.6787\n",
      "Epoch 6/30\n",
      "7352/7352 [==============================] - 94s 13ms/step - loss: 0.5859 - acc: 0.7134 - val_loss: 0.7015 - val_acc: 0.6939\n",
      "Epoch 7/30\n",
      "7352/7352 [==============================] - 95s 13ms/step - loss: 0.5692 - acc: 0.7477 - val_loss: 0.5995 - val_acc: 0.7387\n",
      "Epoch 8/30\n",
      "7352/7352 [==============================] - 96s 13ms/step - loss: 0.4899 - acc: 0.7809 - val_loss: 0.5762 - val_acc: 0.7387\n",
      "Epoch 9/30\n",
      "7352/7352 [==============================] - 90s 12ms/step - loss: 0.4482 - acc: 0.7886 - val_loss: 0.7413 - val_acc: 0.7126\n",
      "Epoch 10/30\n",
      "7352/7352 [==============================] - 90s 12ms/step - loss: 0.4132 - acc: 0.8077 - val_loss: 0.5048 - val_acc: 0.7513\n",
      "Epoch 11/30\n",
      "7352/7352 [==============================] - 89s 12ms/step - loss: 0.3985 - acc: 0.8274 - val_loss: 0.5234 - val_acc: 0.7452\n",
      "Epoch 12/30\n",
      "7352/7352 [==============================] - 91s 12ms/step - loss: 0.3378 - acc: 0.8638 - val_loss: 0.4114 - val_acc: 0.8833\n",
      "Epoch 13/30\n",
      "7352/7352 [==============================] - 91s 12ms/step - loss: 0.2947 - acc: 0.9051 - val_loss: 0.4386 - val_acc: 0.8731\n",
      "Epoch 14/30\n",
      "7352/7352 [==============================] - 90s 12ms/step - loss: 0.2448 - acc: 0.9291 - val_loss: 0.3768 - val_acc: 0.8921\n",
      "Epoch 15/30\n",
      "7352/7352 [==============================] - 91s 12ms/step - loss: 0.2157 - acc: 0.9331 - val_loss: 0.4441 - val_acc: 0.8931\n",
      "Epoch 16/30\n",
      "7352/7352 [==============================] - 90s 12ms/step - loss: 0.2053 - acc: 0.9366 - val_loss: 0.4162 - val_acc: 0.8968\n",
      "Epoch 17/30\n",
      "7352/7352 [==============================] - 89s 12ms/step - loss: 0.2028 - acc: 0.9404 - val_loss: 0.4538 - val_acc: 0.8962\n",
      "Epoch 18/30\n",
      "7352/7352 [==============================] - 93s 13ms/step - loss: 0.1911 - acc: 0.9419 - val_loss: 0.3964 - val_acc: 0.8999\n",
      "Epoch 19/30\n",
      "7352/7352 [==============================] - 96s 13ms/step - loss: 0.1912 - acc: 0.9407 - val_loss: 0.3165 - val_acc: 0.9030\n",
      "Epoch 20/30\n",
      "7352/7352 [==============================] - 96s 13ms/step - loss: 0.1732 - acc: 0.9446 - val_loss: 0.4546 - val_acc: 0.8904\n",
      "Epoch 21/30\n",
      "7352/7352 [==============================] - 94s 13ms/step - loss: 0.1782 - acc: 0.9444 - val_loss: 0.3346 - val_acc: 0.9063\n",
      "Epoch 22/30\n",
      "7352/7352 [==============================] - 95s 13ms/step - loss: 0.1812 - acc: 0.9418 - val_loss: 0.8164 - val_acc: 0.8582\n",
      "Epoch 23/30\n",
      "7352/7352 [==============================] - 95s 13ms/step - loss: 0.1824 - acc: 0.9426 - val_loss: 0.4240 - val_acc: 0.9036\n",
      "Epoch 24/30\n",
      "7352/7352 [==============================] - 94s 13ms/step - loss: 0.1726 - acc: 0.9429 - val_loss: 0.4067 - val_acc: 0.9148\n",
      "Epoch 25/30\n",
      "7352/7352 [==============================] - 96s 13ms/step - loss: 0.1737 - acc: 0.9411 - val_loss: 0.3396 - val_acc: 0.9074\n",
      "Epoch 26/30\n",
      "7352/7352 [==============================] - 96s 13ms/step - loss: 0.1650 - acc: 0.9461 - val_loss: 0.3806 - val_acc: 0.9019\n",
      "Epoch 27/30\n",
      "7352/7352 [==============================] - 89s 12ms/step - loss: 0.1925 - acc: 0.9415 - val_loss: 0.6464 - val_acc: 0.8850\n",
      "Epoch 28/30\n",
      "7352/7352 [==============================] - 91s 12ms/step - loss: 0.1965 - acc: 0.9425 - val_loss: 0.3363 - val_acc: 0.9203\n",
      "Epoch 29/30\n",
      "7352/7352 [==============================] - 92s 12ms/step - loss: 0.1889 - acc: 0.9431 - val_loss: 0.3737 - val_acc: 0.9158\n",
      "Epoch 30/30\n",
      "7352/7352 [==============================] - 95s 13ms/step - loss: 0.1945 - acc: 0.9414 - val_loss: 0.3088 - val_acc: 0.9097\n"
     ]
    },
    {
     "data": {
      "text/plain": [
       "<keras.callbacks.History at 0x29b5ee36a20>"
      ]
     },
     "execution_count": 23,
     "metadata": {},
     "output_type": "execute_result"
    }
   ],
   "source": [
    "# Training the model\n",
    "history = model.fit(X_train,\n",
    "              Y_train,\n",
    "              batch_size=batch_size,\n",
    "              validation_data=(X_test, Y_test),\n",
    "              epochs=epochs)"
   ]
  },
  {
   "cell_type": "code",
   "execution_count": 24,
   "metadata": {},
   "outputs": [
    {
     "name": "stdout",
     "output_type": "stream",
     "text": [
      "Pred                LAYING  SITTING  STANDING  WALKING  WALKING_DOWNSTAIRS  \\\n",
      "True                                                                         \n",
      "LAYING                 512        0        25        0                   0   \n",
      "SITTING                  3      410        75        0                   0   \n",
      "STANDING                 0       87       445        0                   0   \n",
      "WALKING                  0        0         0      481                   2   \n",
      "WALKING_DOWNSTAIRS       0        0         0        0                 382   \n",
      "WALKING_UPSTAIRS         0        0         0        2                  18   \n",
      "\n",
      "Pred                WALKING_UPSTAIRS  \n",
      "True                                  \n",
      "LAYING                             0  \n",
      "SITTING                            3  \n",
      "STANDING                           0  \n",
      "WALKING                           13  \n",
      "WALKING_DOWNSTAIRS                38  \n",
      "WALKING_UPSTAIRS                 451  \n"
     ]
    }
   ],
   "source": [
    "# Confusion Matrix\n",
    "print(confusion_matrix(Y_test, model.predict(X_test)))"
   ]
  },
  {
   "cell_type": "code",
   "execution_count": 27,
   "metadata": {},
   "outputs": [
    {
     "name": "stdout",
     "output_type": "stream",
     "text": [
      "2947/2947 [==============================] - 4s 2ms/step\n"
     ]
    }
   ],
   "source": [
    "score = model.evaluate(X_test, Y_test)"
   ]
  },
  {
   "cell_type": "code",
   "execution_count": 28,
   "metadata": {},
   "outputs": [
    {
     "data": {
      "text/plain": [
       "[0.3087582236972612, 0.9097387173396675]"
      ]
     },
     "execution_count": 28,
     "metadata": {},
     "output_type": "execute_result"
    }
   ],
   "source": [
    "score"
   ]
  },
  {
   "cell_type": "markdown",
   "metadata": {},
   "source": [
    "- With a simple 2 layer architecture we got 90.09% accuracy and a loss of 0.30\n",
    "- We can further imporve the performace with Hyperparameter tuning"
   ]
  },
  {
   "cell_type": "markdown",
   "metadata": {},
   "source": [
    "## 1 layer - 64 LSTM - 0.5 Dropout"
   ]
  },
  {
   "cell_type": "code",
   "execution_count": 31,
   "metadata": {},
   "outputs": [
    {
     "name": "stdout",
     "output_type": "stream",
     "text": [
      "_________________________________________________________________\n",
      "Layer (type)                 Output Shape              Param #   \n",
      "=================================================================\n",
      "lstm_4 (LSTM)                (None, 64)                18944     \n",
      "_________________________________________________________________\n",
      "dropout_4 (Dropout)          (None, 64)                0         \n",
      "_________________________________________________________________\n",
      "dense_4 (Dense)              (None, 6)                 390       \n",
      "=================================================================\n",
      "Total params: 19,334\n",
      "Trainable params: 19,334\n",
      "Non-trainable params: 0\n",
      "_________________________________________________________________\n"
     ]
    }
   ],
   "source": [
    "# Initiliazing the sequential model\n",
    "model = Sequential()\n",
    "# Configuring the parameters\n",
    "model.add(LSTM(64, input_shape=(timesteps, input_dim)))\n",
    "# Adding a dropout layer\n",
    "model.add(Dropout(0.5))\n",
    "# Adding a dense output layer with sigmoid activation\n",
    "model.add(Dense(n_classes, activation='sigmoid'))\n",
    "model.summary()"
   ]
  },
  {
   "cell_type": "code",
   "execution_count": 32,
   "metadata": {},
   "outputs": [],
   "source": [
    "# Compiling the model\n",
    "model.compile(loss='categorical_crossentropy',\n",
    "              optimizer='rmsprop',\n",
    "              metrics=['accuracy'])"
   ]
  },
  {
   "cell_type": "code",
   "execution_count": 33,
   "metadata": {},
   "outputs": [
    {
     "name": "stdout",
     "output_type": "stream",
     "text": [
      "Train on 7352 samples, validate on 2947 samples\n",
      "Epoch 1/30\n",
      "7352/7352 [==============================] - 41s 6ms/step - loss: 1.2634 - acc: 0.4494 - val_loss: 1.1734 - val_acc: 0.5239\n",
      "Epoch 2/30\n",
      "7352/7352 [==============================] - 41s 6ms/step - loss: 1.0471 - acc: 0.5369 - val_loss: 0.9596 - val_acc: 0.6138\n",
      "Epoch 3/30\n",
      "7352/7352 [==============================] - 41s 6ms/step - loss: 0.7859 - acc: 0.6412 - val_loss: 0.8769 - val_acc: 0.5894\n",
      "Epoch 4/30\n",
      "7352/7352 [==============================] - 41s 6ms/step - loss: 0.7260 - acc: 0.6643 - val_loss: 0.8488 - val_acc: 0.6559\n",
      "Epoch 5/30\n",
      "7352/7352 [==============================] - 41s 6ms/step - loss: 0.6113 - acc: 0.7749 - val_loss: 0.7809 - val_acc: 0.7048\n",
      "Epoch 6/30\n",
      "7352/7352 [==============================] - 40s 5ms/step - loss: 0.4956 - acc: 0.8342 - val_loss: 0.7536 - val_acc: 0.7448\n",
      "Epoch 7/30\n",
      "7352/7352 [==============================] - 40s 5ms/step - loss: 0.4008 - acc: 0.8739 - val_loss: 0.5838 - val_acc: 0.8232\n",
      "Epoch 8/30\n",
      "7352/7352 [==============================] - 41s 6ms/step - loss: 0.3273 - acc: 0.9037 - val_loss: 0.5035 - val_acc: 0.8541\n",
      "Epoch 9/30\n",
      "7352/7352 [==============================] - 41s 6ms/step - loss: 0.2811 - acc: 0.9125 - val_loss: 0.3911 - val_acc: 0.8728\n",
      "Epoch 10/30\n",
      "7352/7352 [==============================] - 41s 6ms/step - loss: 0.2599 - acc: 0.9206 - val_loss: 0.4858 - val_acc: 0.8721\n",
      "Epoch 11/30\n",
      "7352/7352 [==============================] - 41s 6ms/step - loss: 0.2591 - acc: 0.9215 - val_loss: 0.4580 - val_acc: 0.8751\n",
      "Epoch 12/30\n",
      "7352/7352 [==============================] - 41s 6ms/step - loss: 0.2211 - acc: 0.9286 - val_loss: 0.4778 - val_acc: 0.8819\n",
      "Epoch 13/30\n",
      "7352/7352 [==============================] - 40s 5ms/step - loss: 0.1967 - acc: 0.9340 - val_loss: 0.3967 - val_acc: 0.8867\n",
      "Epoch 14/30\n",
      "7352/7352 [==============================] - 41s 6ms/step - loss: 0.1961 - acc: 0.9372 - val_loss: 0.3728 - val_acc: 0.8880\n",
      "Epoch 15/30\n",
      "7352/7352 [==============================] - 41s 6ms/step - loss: 0.1927 - acc: 0.9377 - val_loss: 0.4204 - val_acc: 0.8951\n",
      "Epoch 16/30\n",
      "7352/7352 [==============================] - 41s 6ms/step - loss: 0.2302 - acc: 0.9282 - val_loss: 0.3844 - val_acc: 0.8901\n",
      "Epoch 17/30\n",
      "7352/7352 [==============================] - 41s 6ms/step - loss: 0.1569 - acc: 0.9445 - val_loss: 0.4143 - val_acc: 0.9019\n",
      "Epoch 18/30\n",
      "7352/7352 [==============================] - 41s 6ms/step - loss: 0.1814 - acc: 0.9453 - val_loss: 0.5644 - val_acc: 0.8711\n",
      "Epoch 19/30\n",
      "7352/7352 [==============================] - 41s 6ms/step - loss: 0.1713 - acc: 0.9423 - val_loss: 0.5476 - val_acc: 0.8768\n",
      "Epoch 20/30\n",
      "7352/7352 [==============================] - 41s 6ms/step - loss: 0.1660 - acc: 0.9448 - val_loss: 0.6338 - val_acc: 0.8819\n",
      "Epoch 21/30\n",
      "7352/7352 [==============================] - 41s 6ms/step - loss: 0.1702 - acc: 0.9456 - val_loss: 0.5607 - val_acc: 0.8860\n",
      "Epoch 22/30\n",
      "7352/7352 [==============================] - 41s 6ms/step - loss: 0.1829 - acc: 0.9426 - val_loss: 0.5547 - val_acc: 0.8979\n",
      "Epoch 23/30\n",
      "7352/7352 [==============================] - 41s 6ms/step - loss: 0.1534 - acc: 0.9480 - val_loss: 0.4391 - val_acc: 0.8972\n",
      "Epoch 24/30\n",
      "7352/7352 [==============================] - 41s 6ms/step - loss: 0.1533 - acc: 0.9467 - val_loss: 0.7313 - val_acc: 0.8575\n",
      "Epoch 25/30\n",
      "7352/7352 [==============================] - 41s 6ms/step - loss: 0.1822 - acc: 0.9459 - val_loss: 0.4279 - val_acc: 0.8999\n",
      "Epoch 26/30\n",
      "7352/7352 [==============================] - 41s 6ms/step - loss: 0.1559 - acc: 0.9489 - val_loss: 0.4645 - val_acc: 0.9033\n",
      "Epoch 27/30\n",
      "7352/7352 [==============================] - 41s 6ms/step - loss: 0.1573 - acc: 0.9479 - val_loss: 0.4167 - val_acc: 0.9094\n",
      "Epoch 28/30\n",
      "7352/7352 [==============================] - 41s 6ms/step - loss: 0.1550 - acc: 0.9478 - val_loss: 0.5977 - val_acc: 0.8826\n",
      "Epoch 29/30\n",
      "7352/7352 [==============================] - 41s 6ms/step - loss: 0.1485 - acc: 0.9478 - val_loss: 0.4958 - val_acc: 0.8914\n",
      "Epoch 30/30\n",
      "7352/7352 [==============================] - 40s 6ms/step - loss: 0.1440 - acc: 0.9524 - val_loss: 0.4800 - val_acc: 0.9026\n"
     ]
    }
   ],
   "source": [
    "# Training the model\n",
    "history = model.fit(X_train,\n",
    "              Y_train,\n",
    "              batch_size=batch_size,\n",
    "              validation_data=(X_test, Y_test),\n",
    "              epochs=epochs)"
   ]
  },
  {
   "cell_type": "code",
   "execution_count": 34,
   "metadata": {},
   "outputs": [
    {
     "data": {
      "image/png": "[encoded data removed]",
      "text/plain": [
       "<Figure size 432x288 with 1 Axes>"
      ]
     },
     "metadata": {
      "needs_background": "light"
     },
     "output_type": "display_data"
    }
   ],
   "source": [
    "epochs = 30\n",
    "\n",
    "fig,ax = plt.subplots(1,1)\n",
    "ax.set_xlabel('epoch') ; ax.set_ylabel('Categorical Crossentropy Loss')\n",
    "x = list(range(1,epochs+1))\n",
    "vy = history.history['val_loss']\n",
    "ty = history.history['loss']\n",
    "# plt_dynamic(x, vy, ty, ax)\n",
    "ax.plot(x, vy, 'b', label=\"Validation Loss\")\n",
    "ax.plot(x, ty, 'r', label=\"Train Loss\")\n",
    "plt.legend()\n",
    "plt.grid()\n",
    "fig.canvas.draw()"
   ]
  },
  {
   "cell_type": "code",
   "execution_count": 35,
   "metadata": {},
   "outputs": [
    {
     "name": "stdout",
     "output_type": "stream",
     "text": [
      "Pred                LAYING  SITTING  STANDING  WALKING  WALKING_DOWNSTAIRS  \\\n",
      "True                                                                         \n",
      "LAYING                 510        0         0        0                   0   \n",
      "SITTING                  0      397        85        0                   0   \n",
      "STANDING                 0      102       427        0                   0   \n",
      "WALKING                  0        0         0      457                   8   \n",
      "WALKING_DOWNSTAIRS       0        0         0        0                 418   \n",
      "WALKING_UPSTAIRS         0        0         0       10                  10   \n",
      "\n",
      "Pred                WALKING_UPSTAIRS  \n",
      "True                                  \n",
      "LAYING                            27  \n",
      "SITTING                            9  \n",
      "STANDING                           3  \n",
      "WALKING                           31  \n",
      "WALKING_DOWNSTAIRS                 2  \n",
      "WALKING_UPSTAIRS                 451  \n"
     ]
    }
   ],
   "source": [
    "# Confusion Matrix\n",
    "print(confusion_matrix(Y_test, model.predict(X_test)))"
   ]
  },
  {
   "cell_type": "code",
   "execution_count": 36,
   "metadata": {},
   "outputs": [
    {
     "name": "stdout",
     "output_type": "stream",
     "text": [
      "2947/2947 [==============================] - 2s 595us/step\n"
     ]
    }
   ],
   "source": [
    "score = model.evaluate(X_test, Y_test)"
   ]
  },
  {
   "cell_type": "code",
   "execution_count": 37,
   "metadata": {},
   "outputs": [
    {
     "data": {
      "text/plain": [
       "[0.4799739831386873, 0.9026128266033254]"
      ]
     },
     "execution_count": 37,
     "metadata": {},
     "output_type": "execute_result"
    }
   ],
   "source": [
    "score"
   ]
  },
  {
   "cell_type": "markdown",
   "metadata": {},
   "source": [
    "## 1 layer - 64 LSTM - 0.3 Dropout"
   ]
  },
  {
   "cell_type": "code",
   "execution_count": 38,
   "metadata": {},
   "outputs": [
    {
     "name": "stdout",
     "output_type": "stream",
     "text": [
      "_________________________________________________________________\n",
      "Layer (type)                 Output Shape              Param #   \n",
      "=================================================================\n",
      "lstm_5 (LSTM)                (None, 64)                18944     \n",
      "_________________________________________________________________\n",
      "dropout_5 (Dropout)          (None, 64)                0         \n",
      "_________________________________________________________________\n",
      "dense_5 (Dense)              (None, 6)                 390       \n",
      "=================================================================\n",
      "Total params: 19,334\n",
      "Trainable params: 19,334\n",
      "Non-trainable params: 0\n",
      "_________________________________________________________________\n"
     ]
    }
   ],
   "source": [
    "# Initiliazing the sequential model\n",
    "model = Sequential()\n",
    "# Configuring the parameters\n",
    "model.add(LSTM(64, input_shape=(timesteps, input_dim)))\n",
    "# Adding a dropout layer\n",
    "model.add(Dropout(0.3))\n",
    "# Adding a dense output layer with sigmoid activation\n",
    "model.add(Dense(n_classes, activation='sigmoid'))\n",
    "model.summary()"
   ]
  },
  {
   "cell_type": "code",
   "execution_count": 39,
   "metadata": {},
   "outputs": [],
   "source": [
    "# Compiling the model\n",
    "model.compile(loss='categorical_crossentropy',\n",
    "              optimizer='rmsprop',\n",
    "              metrics=['accuracy'])"
   ]
  },
  {
   "cell_type": "code",
   "execution_count": 40,
   "metadata": {},
   "outputs": [
    {
     "name": "stdout",
     "output_type": "stream",
     "text": [
      "Train on 7352 samples, validate on 2947 samples\n",
      "Epoch 1/30\n",
      "7352/7352 [==============================] - 41s 6ms/step - loss: 1.2169 - acc: 0.4532 - val_loss: 1.1986 - val_acc: 0.4483\n",
      "Epoch 2/30\n",
      "7352/7352 [==============================] - 40s 5ms/step - loss: 0.8930 - acc: 0.5910 - val_loss: 0.8242 - val_acc: 0.6013\n",
      "Epoch 3/30\n",
      "7352/7352 [==============================] - 40s 5ms/step - loss: 0.7827 - acc: 0.6298 - val_loss: 0.8309 - val_acc: 0.6535\n",
      "Epoch 4/30\n",
      "7352/7352 [==============================] - 41s 6ms/step - loss: 0.6557 - acc: 0.7312 - val_loss: 0.6237 - val_acc: 0.7550\n",
      "Epoch 5/30\n",
      "7352/7352 [==============================] - 40s 5ms/step - loss: 0.5150 - acc: 0.8181 - val_loss: 0.5296 - val_acc: 0.7957\n",
      "Epoch 6/30\n",
      "7352/7352 [==============================] - 40s 5ms/step - loss: 0.3801 - acc: 0.8713 - val_loss: 0.6078 - val_acc: 0.8314\n",
      "Epoch 7/30\n",
      "7352/7352 [==============================] - 40s 5ms/step - loss: 0.3093 - acc: 0.8977 - val_loss: 0.4133 - val_acc: 0.8463\n",
      "Epoch 8/30\n",
      "7352/7352 [==============================] - 41s 6ms/step - loss: 0.2569 - acc: 0.9108 - val_loss: 0.4399 - val_acc: 0.8643\n",
      "Epoch 9/30\n",
      "7352/7352 [==============================] - 40s 6ms/step - loss: 0.2228 - acc: 0.9275 - val_loss: 0.3690 - val_acc: 0.8704\n",
      "Epoch 10/30\n",
      "7352/7352 [==============================] - 40s 6ms/step - loss: 0.1897 - acc: 0.9354 - val_loss: 0.3705 - val_acc: 0.8826\n",
      "Epoch 11/30\n",
      "7352/7352 [==============================] - 41s 6ms/step - loss: 0.1658 - acc: 0.9406 - val_loss: 0.3984 - val_acc: 0.8721\n",
      "Epoch 12/30\n",
      "7352/7352 [==============================] - 41s 6ms/step - loss: 0.2084 - acc: 0.9289 - val_loss: 0.5547 - val_acc: 0.7316\n",
      "Epoch 13/30\n",
      "7352/7352 [==============================] - 41s 6ms/step - loss: 0.1908 - acc: 0.9334 - val_loss: 0.3648 - val_acc: 0.8989\n",
      "Epoch 14/30\n",
      "7352/7352 [==============================] - 41s 6ms/step - loss: 0.1658 - acc: 0.9456 - val_loss: 0.4934 - val_acc: 0.8880\n",
      "Epoch 15/30\n",
      "7352/7352 [==============================] - 40s 5ms/step - loss: 0.1582 - acc: 0.9460 - val_loss: 0.2942 - val_acc: 0.9128\n",
      "Epoch 16/30\n",
      "7352/7352 [==============================] - 40s 5ms/step - loss: 0.1542 - acc: 0.9434 - val_loss: 0.3431 - val_acc: 0.9080\n",
      "Epoch 17/30\n",
      "7352/7352 [==============================] - 40s 5ms/step - loss: 0.1578 - acc: 0.9449 - val_loss: 0.3412 - val_acc: 0.8904\n",
      "Epoch 18/30\n",
      "7352/7352 [==============================] - 40s 5ms/step - loss: 0.1447 - acc: 0.9501 - val_loss: 0.2809 - val_acc: 0.9135\n",
      "Epoch 19/30\n",
      "7352/7352 [==============================] - 40s 5ms/step - loss: 0.1512 - acc: 0.9438 - val_loss: 0.4544 - val_acc: 0.8819\n",
      "Epoch 20/30\n",
      "7352/7352 [==============================] - 40s 5ms/step - loss: 0.1413 - acc: 0.9445 - val_loss: 0.2994 - val_acc: 0.9111\n",
      "Epoch 21/30\n",
      "7352/7352 [==============================] - 41s 6ms/step - loss: 0.1552 - acc: 0.9459 - val_loss: 0.4392 - val_acc: 0.8975\n",
      "Epoch 22/30\n",
      "7352/7352 [==============================] - 40s 5ms/step - loss: 0.1573 - acc: 0.9453 - val_loss: 0.4703 - val_acc: 0.8894\n",
      "Epoch 23/30\n",
      "7352/7352 [==============================] - 41s 6ms/step - loss: 0.1488 - acc: 0.9471 - val_loss: 0.3975 - val_acc: 0.8962\n",
      "Epoch 24/30\n",
      "7352/7352 [==============================] - 40s 5ms/step - loss: 0.2731 - acc: 0.9321 - val_loss: 0.3948 - val_acc: 0.8992\n",
      "Epoch 25/30\n",
      "7352/7352 [==============================] - 40s 5ms/step - loss: 0.1512 - acc: 0.9495 - val_loss: 0.4666 - val_acc: 0.8738\n",
      "Epoch 26/30\n",
      "7352/7352 [==============================] - 40s 5ms/step - loss: 0.1393 - acc: 0.9494 - val_loss: 0.4294 - val_acc: 0.8962\n",
      "Epoch 27/30\n",
      "7352/7352 [==============================] - 41s 6ms/step - loss: 0.1393 - acc: 0.9516 - val_loss: 0.4013 - val_acc: 0.8975\n",
      "Epoch 28/30\n",
      "7352/7352 [==============================] - 40s 5ms/step - loss: 0.1372 - acc: 0.9512 - val_loss: 0.4080 - val_acc: 0.9030\n",
      "Epoch 29/30\n",
      "7352/7352 [==============================] - 40s 5ms/step - loss: 0.1431 - acc: 0.9470 - val_loss: 0.2397 - val_acc: 0.9179\n",
      "Epoch 30/30\n",
      "7352/7352 [==============================] - 40s 5ms/step - loss: 0.1392 - acc: 0.9514 - val_loss: 0.3280 - val_acc: 0.9077\n"
     ]
    }
   ],
   "source": [
    "# Training the model\n",
    "history = model.fit(X_train,\n",
    "          Y_train,\n",
    "          batch_size=batch_size,\n",
    "          validation_data=(X_test, Y_test),\n",
    "          epochs=epochs)"
   ]
  },
  {
   "cell_type": "code",
   "execution_count": 41,
   "metadata": {},
   "outputs": [
    {
     "data": {
      "image/png": "[encoded data removed]",
      "text/plain": [
       "<Figure size 432x288 with 1 Axes>"
      ]
     },
     "metadata": {
      "needs_background": "light"
     },
     "output_type": "display_data"
    }
   ],
   "source": [
    "epochs = 30\n",
    "\n",
    "fig,ax = plt.subplots(1,1)\n",
    "ax.set_xlabel('epoch') ; ax.set_ylabel('Categorical Crossentropy Loss')\n",
    "x = list(range(1,epochs+1))\n",
    "vy = history.history['val_loss']\n",
    "ty = history.history['loss']\n",
    "# plt_dynamic(x, vy, ty, ax)\n",
    "ax.plot(x, vy, 'b', label=\"Validation Loss\")\n",
    "ax.plot(x, ty, 'r', label=\"Train Loss\")\n",
    "plt.legend()\n",
    "plt.grid()\n",
    "fig.canvas.draw()"
   ]
  },
  {
   "cell_type": "code",
   "execution_count": 42,
   "metadata": {},
   "outputs": [
    {
     "name": "stdout",
     "output_type": "stream",
     "text": [
      "Pred                LAYING  SITTING  STANDING  WALKING  WALKING_DOWNSTAIRS  \\\n",
      "True                                                                         \n",
      "LAYING                 509       28         0        0                   0   \n",
      "SITTING                  0      383       108        0                   0   \n",
      "STANDING                 0       78       453        0                   0   \n",
      "WALKING                  0        0         0      468                  25   \n",
      "WALKING_DOWNSTAIRS       0        0         0        7                 412   \n",
      "WALKING_UPSTAIRS         0        9         0       11                   1   \n",
      "\n",
      "Pred                WALKING_UPSTAIRS  \n",
      "True                                  \n",
      "LAYING                             0  \n",
      "SITTING                            0  \n",
      "STANDING                           1  \n",
      "WALKING                            3  \n",
      "WALKING_DOWNSTAIRS                 1  \n",
      "WALKING_UPSTAIRS                 450  \n"
     ]
    }
   ],
   "source": [
    "# Confusion Matrix\n",
    "print(confusion_matrix(Y_test, model.predict(X_test)))"
   ]
  },
  {
   "cell_type": "code",
   "execution_count": 43,
   "metadata": {},
   "outputs": [
    {
     "name": "stdout",
     "output_type": "stream",
     "text": [
      "2947/2947 [==============================] - 2s 600us/step\n"
     ]
    }
   ],
   "source": [
    "score = model.evaluate(X_test, Y_test)"
   ]
  },
  {
   "cell_type": "code",
   "execution_count": 44,
   "metadata": {},
   "outputs": [
    {
     "data": {
      "text/plain": [
       "[0.3279859355978342, 0.9077027485578555]"
      ]
     },
     "execution_count": 44,
     "metadata": {},
     "output_type": "execute_result"
    }
   ],
   "source": [
    "score"
   ]
  },
  {
   "cell_type": "markdown",
   "metadata": {},
   "source": [
    "## 2 layer - 32, 32 LSTM - 0.3 Dropouts"
   ]
  },
  {
   "cell_type": "code",
   "execution_count": 45,
   "metadata": {},
   "outputs": [
    {
     "name": "stdout",
     "output_type": "stream",
     "text": [
      "_________________________________________________________________\n",
      "Layer (type)                 Output Shape              Param #   \n",
      "=================================================================\n",
      "lstm_6 (LSTM)                (None, 128, 32)           5376      \n",
      "_________________________________________________________________\n",
      "dropout_6 (Dropout)          (None, 128, 32)           0         \n",
      "_________________________________________________________________\n",
      "lstm_7 (LSTM)                (None, 32)                8320      \n",
      "_________________________________________________________________\n",
      "dropout_7 (Dropout)          (None, 32)                0         \n",
      "_________________________________________________________________\n",
      "dense_6 (Dense)              (None, 6)                 198       \n",
      "=================================================================\n",
      "Total params: 13,894\n",
      "Trainable params: 13,894\n",
      "Non-trainable params: 0\n",
      "_________________________________________________________________\n"
     ]
    }
   ],
   "source": [
    "# Initiliazing the sequential model\n",
    "model = Sequential()\n",
    "# Configuring the parameters\n",
    "model.add(LSTM(32, return_sequences=True, input_shape=(timesteps, input_dim)))\n",
    "# Adding a dropout layer\n",
    "model.add(Dropout(0.3))\n",
    "model.add(LSTM(32, input_shape=(timesteps, input_dim)))\n",
    "model.add(Dropout(0.3))\n",
    "# Adding a dense output layer with sigmoid activation\n",
    "model.add(Dense(n_classes, activation='sigmoid'))\n",
    "model.summary()"
   ]
  },
  {
   "cell_type": "code",
   "execution_count": 46,
   "metadata": {},
   "outputs": [],
   "source": [
    "# Compiling the model\n",
    "model.compile(loss='categorical_crossentropy',\n",
    "              optimizer='rmsprop',\n",
    "              metrics=['accuracy'])"
   ]
  },
  {
   "cell_type": "code",
   "execution_count": 47,
   "metadata": {},
   "outputs": [
    {
     "name": "stdout",
     "output_type": "stream",
     "text": [
      "Train on 7352 samples, validate on 2947 samples\n",
      "Epoch 1/30\n",
      "7352/7352 [==============================] - 69s 9ms/step - loss: 1.1812 - acc: 0.4996 - val_loss: 0.9253 - val_acc: 0.6020\n",
      "Epoch 2/30\n",
      "7352/7352 [==============================] - 67s 9ms/step - loss: 0.7170 - acc: 0.7061 - val_loss: 0.7277 - val_acc: 0.6804\n",
      "Epoch 3/30\n",
      "7352/7352 [==============================] - 67s 9ms/step - loss: 0.5364 - acc: 0.7878 - val_loss: 0.5902 - val_acc: 0.7971\n",
      "Epoch 4/30\n",
      "7352/7352 [==============================] - 71s 10ms/step - loss: 0.2349 - acc: 0.9260 - val_loss: 0.3943 - val_acc: 0.8772\n",
      "Epoch 7/30\n",
      "7352/7352 [==============================] - 70s 10ms/step - loss: 0.2054 - acc: 0.9313 - val_loss: 0.5153 - val_acc: 0.8799\n",
      "Epoch 8/30\n",
      "7352/7352 [==============================] - 66s 9ms/step - loss: 0.1828 - acc: 0.9310 - val_loss: 0.3241 - val_acc: 0.8897\n",
      "Epoch 9/30\n",
      "7352/7352 [==============================] - 68s 9ms/step - loss: 0.1687 - acc: 0.9408 - val_loss: 0.3453 - val_acc: 0.9084\n",
      "Epoch 10/30\n",
      "7352/7352 [==============================] - 66s 9ms/step - loss: 0.1544 - acc: 0.9423 - val_loss: 0.5333 - val_acc: 0.8833\n",
      "Epoch 11/30\n",
      "7352/7352 [==============================] - 68s 9ms/step - loss: 0.1477 - acc: 0.9471 - val_loss: 0.4294 - val_acc: 0.8958\n",
      "Epoch 12/30\n",
      "7352/7352 [==============================] - 67s 9ms/step - loss: 0.1375 - acc: 0.9475 - val_loss: 0.3723 - val_acc: 0.9006\n",
      "Epoch 13/30\n",
      "7352/7352 [==============================] - 67s 9ms/step - loss: 0.1502 - acc: 0.9468 - val_loss: 0.2905 - val_acc: 0.9108\n",
      "Epoch 14/30\n",
      "7352/7352 [==============================] - 68s 9ms/step - loss: 0.1456 - acc: 0.9480 - val_loss: 0.3195 - val_acc: 0.9026\n",
      "Epoch 15/30\n",
      "7352/7352 [==============================] - 67s 9ms/step - loss: 0.1358 - acc: 0.9498 - val_loss: 0.4466 - val_acc: 0.9040\n",
      "Epoch 16/30\n",
      "7352/7352 [==============================] - 67s 9ms/step - loss: 0.1367 - acc: 0.9501 - val_loss: 0.4003 - val_acc: 0.8958\n",
      "Epoch 17/30\n",
      "7352/7352 [==============================] - 67s 9ms/step - loss: 0.1417 - acc: 0.9486 - val_loss: 0.3943 - val_acc: 0.9067\n",
      "Epoch 18/30\n",
      "7352/7352 [==============================] - 67s 9ms/step - loss: 0.1325 - acc: 0.9506 - val_loss: 0.3243 - val_acc: 0.8972\n",
      "Epoch 19/30\n",
      "7352/7352 [==============================] - 67s 9ms/step - loss: 0.1278 - acc: 0.9510 - val_loss: 0.4311 - val_acc: 0.8816\n",
      "Epoch 20/30\n",
      "7352/7352 [==============================] - 67s 9ms/step - loss: 0.1356 - acc: 0.9527 - val_loss: 0.4475 - val_acc: 0.9013\n",
      "Epoch 21/30\n",
      "7352/7352 [==============================] - 68s 9ms/step - loss: 0.1291 - acc: 0.9490 - val_loss: 0.3015 - val_acc: 0.9053\n",
      "Epoch 22/30\n",
      "7352/7352 [==============================] - 68s 9ms/step - loss: 0.1390 - acc: 0.9524 - val_loss: 0.3602 - val_acc: 0.9070\n",
      "Epoch 23/30\n",
      "7352/7352 [==============================] - 68s 9ms/step - loss: 0.1226 - acc: 0.9510 - val_loss: 0.5080 - val_acc: 0.8968\n",
      "Epoch 24/30\n",
      "7352/7352 [==============================] - 68s 9ms/step - loss: 0.1185 - acc: 0.9523 - val_loss: 0.4168 - val_acc: 0.8962\n",
      "Epoch 25/30\n",
      "7352/7352 [==============================] - 68s 9ms/step - loss: 0.1641 - acc: 0.9482 - val_loss: 0.3465 - val_acc: 0.9104\n",
      "Epoch 26/30\n",
      "7352/7352 [==============================] - 67s 9ms/step - loss: 0.1340 - acc: 0.9506 - val_loss: 0.3318 - val_acc: 0.9169\n",
      "Epoch 27/30\n",
      "7352/7352 [==============================] - 67s 9ms/step - loss: 0.1274 - acc: 0.9512 - val_loss: 0.4885 - val_acc: 0.9019\n",
      "Epoch 28/30\n",
      "7352/7352 [==============================] - 67s 9ms/step - loss: 0.1355 - acc: 0.9520 - val_loss: 0.2903 - val_acc: 0.9097\n",
      "Epoch 29/30\n",
      "7352/7352 [==============================] - 68s 9ms/step - loss: 0.1302 - acc: 0.9506 - val_loss: 0.3077 - val_acc: 0.9104\n",
      "Epoch 30/30\n",
      "7352/7352 [==============================] - 68s 9ms/step - loss: 0.1257 - acc: 0.9536 - val_loss: 0.3074 - val_acc: 0.9074\n"
     ]
    }
   ],
   "source": [
    "# Training the model\n",
    "history = model.fit(X_train,\n",
    "          Y_train,\n",
    "          batch_size=batch_size,\n",
    "          validation_data=(X_test, Y_test),\n",
    "          epochs=epochs)"
   ]
  },
  {
   "cell_type": "code",
   "execution_count": 48,
   "metadata": {},
   "outputs": [
    {
     "data": {
      "image/png": "[encoded data removed]",
      "text/plain": [
       "<Figure size 432x288 with 1 Axes>"
      ]
     },
     "metadata": {
      "needs_background": "light"
     },
     "output_type": "display_data"
    }
   ],
   "source": [
    "epochs = 30\n",
    "\n",
    "fig,ax = plt.subplots(1,1)\n",
    "ax.set_xlabel('epoch') ; ax.set_ylabel('Categorical Crossentropy Loss')\n",
    "x = list(range(1,epochs+1))\n",
    "vy = history.history['val_loss']\n",
    "ty = history.history['loss']\n",
    "# plt_dynamic(x, vy, ty, ax)\n",
    "ax.plot(x, vy, 'b', label=\"Validation Loss\")\n",
    "ax.plot(x, ty, 'r', label=\"Train Loss\")\n",
    "plt.legend()\n",
    "plt.grid()\n",
    "fig.canvas.draw()"
   ]
  },
  {
   "cell_type": "code",
   "execution_count": 49,
   "metadata": {},
   "outputs": [
    {
     "name": "stdout",
     "output_type": "stream",
     "text": [
      "Pred                LAYING  SITTING  STANDING  WALKING  WALKING_DOWNSTAIRS  \\\n",
      "True                                                                         \n",
      "LAYING                 511        0        26        0                   0   \n",
      "SITTING                  6      398        86        0                   0   \n",
      "STANDING                 0      101       430        1                   0   \n",
      "WALKING                  0        0         0      468                  19   \n",
      "WALKING_DOWNSTAIRS       0        0         0        3                 409   \n",
      "WALKING_UPSTAIRS         0       11         0        1                   1   \n",
      "\n",
      "Pred                WALKING_UPSTAIRS  \n",
      "True                                  \n",
      "LAYING                             0  \n",
      "SITTING                            1  \n",
      "STANDING                           0  \n",
      "WALKING                            9  \n",
      "WALKING_DOWNSTAIRS                 8  \n",
      "WALKING_UPSTAIRS                 458  \n"
     ]
    }
   ],
   "source": [
    "# Confusion Matrix\n",
    "print(confusion_matrix(Y_test, model.predict(X_test)))"
   ]
  },
  {
   "cell_type": "code",
   "execution_count": 50,
   "metadata": {},
   "outputs": [
    {
     "name": "stdout",
     "output_type": "stream",
     "text": [
      "2947/2947 [==============================] - 2s 830us/step\n"
     ]
    }
   ],
   "source": [
    "score = model.evaluate(X_test, Y_test)"
   ]
  },
  {
   "cell_type": "code",
   "execution_count": 51,
   "metadata": {},
   "outputs": [
    {
     "data": {
      "text/plain": [
       "[0.3073875159431283, 0.9073634204275535]"
      ]
     },
     "execution_count": 51,
     "metadata": {},
     "output_type": "execute_result"
    }
   ],
   "source": [
    "score"
   ]
  },
  {
   "cell_type": "markdown",
   "metadata": {},
   "source": [
    "## 2 layer - 32, 32 LSTM - 0.3 Dropouts - Adam Optimizer"
   ]
  },
  {
   "cell_type": "code",
   "execution_count": 52,
   "metadata": {},
   "outputs": [
    {
     "name": "stdout",
     "output_type": "stream",
     "text": [
      "_________________________________________________________________\n",
      "Layer (type)                 Output Shape              Param #   \n",
      "=================================================================\n",
      "lstm_8 (LSTM)                (None, 128, 32)           5376      \n",
      "_________________________________________________________________\n",
      "dropout_8 (Dropout)          (None, 128, 32)           0         \n",
      "_________________________________________________________________\n",
      "lstm_9 (LSTM)                (None, 32)                8320      \n",
      "_________________________________________________________________\n",
      "dropout_9 (Dropout)          (None, 32)                0         \n",
      "_________________________________________________________________\n",
      "dense_7 (Dense)              (None, 6)                 198       \n",
      "=================================================================\n",
      "Total params: 13,894\n",
      "Trainable params: 13,894\n",
      "Non-trainable params: 0\n",
      "_________________________________________________________________\n"
     ]
    }
   ],
   "source": [
    "# Initiliazing the sequential model\n",
    "model = Sequential()\n",
    "# Configuring the parameters\n",
    "model.add(LSTM(32, return_sequences=True, input_shape=(timesteps, input_dim)))\n",
    "# Adding a dropout layer\n",
    "model.add(Dropout(0.3))\n",
    "model.add(LSTM(32, input_shape=(timesteps, input_dim)))\n",
    "model.add(Dropout(0.3))\n",
    "# Adding a dense output layer with sigmoid activation\n",
    "model.add(Dense(n_classes, activation='sigmoid'))\n",
    "model.summary()"
   ]
  },
  {
   "cell_type": "code",
   "execution_count": 53,
   "metadata": {},
   "outputs": [],
   "source": [
    "# Compiling the model\n",
    "model.compile(loss='categorical_crossentropy',\n",
    "              optimizer='adam',\n",
    "              metrics=['accuracy'])"
   ]
  },
  {
   "cell_type": "code",
   "execution_count": 54,
   "metadata": {},
   "outputs": [
    {
     "name": "stdout",
     "output_type": "stream",
     "text": [
      "Train on 7352 samples, validate on 2947 samples\n",
      "Epoch 1/30\n",
      "7352/7352 [==============================] - 70s 10ms/step - loss: 1.2361 - acc: 0.4780 - val_loss: 0.8949 - val_acc: 0.6125\n",
      "Epoch 2/30\n",
      "7352/7352 [==============================] - 67s 9ms/step - loss: 0.8152 - acc: 0.6113 - val_loss: 0.7299 - val_acc: 0.6352\n",
      "Epoch 3/30\n",
      "7352/7352 [==============================] - 67s 9ms/step - loss: 0.6771 - acc: 0.6763 - val_loss: 0.8846 - val_acc: 0.5809\n",
      "Epoch 4/30\n",
      "7352/7352 [==============================] - 68s 9ms/step - loss: 0.6695 - acc: 0.6929 - val_loss: 0.6390 - val_acc: 0.7024\n",
      "Epoch 5/30\n",
      "7352/7352 [==============================] - 67s 9ms/step - loss: 0.5297 - acc: 0.7650 - val_loss: 0.4811 - val_acc: 0.7533\n",
      "Epoch 6/30\n",
      "7352/7352 [==============================] - 67s 9ms/step - loss: 0.5496 - acc: 0.7714 - val_loss: 0.6408 - val_acc: 0.7421\n",
      "Epoch 7/30\n",
      "7352/7352 [==============================] - 68s 9ms/step - loss: 0.4251 - acc: 0.8572 - val_loss: 0.5844 - val_acc: 0.8001\n",
      "Epoch 8/30\n",
      "7352/7352 [==============================] - 67s 9ms/step - loss: 0.3554 - acc: 0.8862 - val_loss: 0.4565 - val_acc: 0.8079\n",
      "Epoch 9/30\n",
      "7352/7352 [==============================] - 67s 9ms/step - loss: 0.3061 - acc: 0.8984 - val_loss: 0.3791 - val_acc: 0.8602\n",
      "Epoch 10/30\n",
      "7352/7352 [==============================] - 67s 9ms/step - loss: 0.2611 - acc: 0.9185 - val_loss: 0.3907 - val_acc: 0.8585\n",
      "Epoch 11/30\n",
      "7352/7352 [==============================] - 66s 9ms/step - loss: 0.2458 - acc: 0.9225 - val_loss: 0.3440 - val_acc: 0.8748\n",
      "Epoch 12/30\n",
      "7352/7352 [==============================] - 67s 9ms/step - loss: 0.2282 - acc: 0.9268 - val_loss: 0.2997 - val_acc: 0.8989\n",
      "Epoch 13/30\n",
      "7352/7352 [==============================] - 67s 9ms/step - loss: 0.2086 - acc: 0.9312 - val_loss: 0.3120 - val_acc: 0.9036\n",
      "Epoch 14/30\n",
      "7352/7352 [==============================] - 67s 9ms/step - loss: 0.2246 - acc: 0.9261 - val_loss: 0.3434 - val_acc: 0.9019\n",
      "Epoch 15/30\n",
      "7352/7352 [==============================] - 66s 9ms/step - loss: 0.1844 - acc: 0.9388 - val_loss: 0.3359 - val_acc: 0.8985\n",
      "Epoch 16/30\n",
      "7352/7352 [==============================] - 67s 9ms/step - loss: 0.2992 - acc: 0.8958 - val_loss: 0.3185 - val_acc: 0.8931\n",
      "Epoch 17/30\n",
      "7352/7352 [==============================] - 66s 9ms/step - loss: 0.1851 - acc: 0.9342 - val_loss: 0.3090 - val_acc: 0.9077\n",
      "Epoch 18/30\n",
      "7352/7352 [==============================] - 66s 9ms/step - loss: 0.1694 - acc: 0.9408 - val_loss: 0.3193 - val_acc: 0.8999\n",
      "Epoch 19/30\n",
      "7352/7352 [==============================] - 66s 9ms/step - loss: 0.1962 - acc: 0.9331 - val_loss: 0.2963 - val_acc: 0.9097\n",
      "Epoch 20/30\n",
      "7352/7352 [==============================] - 67s 9ms/step - loss: 0.1639 - acc: 0.9374 - val_loss: 0.3010 - val_acc: 0.9050\n",
      "Epoch 21/30\n",
      "7352/7352 [==============================] - 67s 9ms/step - loss: 0.1619 - acc: 0.9434 - val_loss: 0.3763 - val_acc: 0.8894\n",
      "Epoch 22/30\n",
      "7352/7352 [==============================] - 67s 9ms/step - loss: 0.1936 - acc: 0.9321 - val_loss: 0.2821 - val_acc: 0.9158\n",
      "Epoch 23/30\n",
      "7352/7352 [==============================] - 66s 9ms/step - loss: 0.1613 - acc: 0.9421 - val_loss: 0.2952 - val_acc: 0.9148\n",
      "Epoch 24/30\n",
      "7352/7352 [==============================] - 66s 9ms/step - loss: 0.1375 - acc: 0.9489 - val_loss: 0.3207 - val_acc: 0.9145\n",
      "Epoch 25/30\n",
      "7352/7352 [==============================] - 66s 9ms/step - loss: 0.1519 - acc: 0.9470 - val_loss: 0.3114 - val_acc: 0.9165\n",
      "Epoch 26/30\n",
      "7352/7352 [==============================] - 67s 9ms/step - loss: 0.1294 - acc: 0.9482 - val_loss: 0.3046 - val_acc: 0.9209\n",
      "Epoch 27/30\n",
      "7352/7352 [==============================] - 67s 9ms/step - loss: 0.1233 - acc: 0.9491 - val_loss: 0.2748 - val_acc: 0.9270\n",
      "Epoch 28/30\n",
      "7352/7352 [==============================] - 67s 9ms/step - loss: 0.1238 - acc: 0.9512 - val_loss: 0.2981 - val_acc: 0.9220\n",
      "Epoch 29/30\n",
      "7352/7352 [==============================] - 67s 9ms/step - loss: 0.1264 - acc: 0.9502 - val_loss: 0.2809 - val_acc: 0.9237\n",
      "Epoch 30/30\n",
      "7352/7352 [==============================] - 67s 9ms/step - loss: 0.1358 - acc: 0.9497 - val_loss: 0.3329 - val_acc: 0.9138\n"
     ]
    }
   ],
   "source": [
    "# Training the model\n",
    "history = model.fit(X_train,\n",
    "          Y_train,\n",
    "          batch_size=batch_size,\n",
    "          validation_data=(X_test, Y_test),\n",
    "          epochs=epochs)"
   ]
  },
  {
   "cell_type": "code",
   "execution_count": 55,
   "metadata": {},
   "outputs": [
    {
     "data": {
      "image/png": "[encoded data removed]",
      "text/plain": [
       "<Figure size 432x288 with 1 Axes>"
      ]
     },
     "metadata": {
      "needs_background": "light"
     },
     "output_type": "display_data"
    }
   ],
   "source": [
    "epochs = 30\n",
    "\n",
    "fig,ax = plt.subplots(1,1)\n",
    "ax.set_xlabel('epoch') ; ax.set_ylabel('Categorical Crossentropy Loss')\n",
    "x = list(range(1,epochs+1))\n",
    "vy = history.history['val_loss']\n",
    "ty = history.history['loss']\n",
    "# plt_dynamic(x, vy, ty, ax)\n",
    "ax.plot(x, vy, 'b', label=\"Validation Loss\")\n",
    "ax.plot(x, ty, 'r', label=\"Train Loss\")\n",
    "plt.legend()\n",
    "plt.grid()\n",
    "fig.canvas.draw()"
   ]
  },
  {
   "cell_type": "code",
   "execution_count": 56,
   "metadata": {},
   "outputs": [
    {
     "name": "stdout",
     "output_type": "stream",
     "text": [
      "Pred                LAYING  SITTING  STANDING  WALKING  WALKING_DOWNSTAIRS  \\\n",
      "True                                                                         \n",
      "LAYING                 523        0         0        0                   1   \n",
      "SITTING                  1      380       105        2                   3   \n",
      "STANDING                 0       74       456        2                   0   \n",
      "WALKING                  0        0         0      462                   3   \n",
      "WALKING_DOWNSTAIRS       0        0         0        0                 402   \n",
      "WALKING_UPSTAIRS         0        0         0        1                   0   \n",
      "\n",
      "Pred                WALKING_UPSTAIRS  \n",
      "True                                  \n",
      "LAYING                            13  \n",
      "SITTING                            0  \n",
      "STANDING                           0  \n",
      "WALKING                           31  \n",
      "WALKING_DOWNSTAIRS                18  \n",
      "WALKING_UPSTAIRS                 470  \n"
     ]
    }
   ],
   "source": [
    "# Confusion Matrix\n",
    "print(confusion_matrix(Y_test, model.predict(X_test)))"
   ]
  },
  {
   "cell_type": "code",
   "execution_count": 57,
   "metadata": {},
   "outputs": [
    {
     "name": "stdout",
     "output_type": "stream",
     "text": [
      "2947/2947 [==============================] - 2s 826us/step\n"
     ]
    }
   ],
   "source": [
    "score = model.evaluate(X_test, Y_test)"
   ]
  },
  {
   "cell_type": "code",
   "execution_count": 58,
   "metadata": {},
   "outputs": [
    {
     "data": {
      "text/plain": [
       "[0.3329464540803847, 0.9138106549032915]"
      ]
     },
     "execution_count": 58,
     "metadata": {},
     "output_type": "execute_result"
    }
   ],
   "source": [
    "score"
   ]
  },
  {
   "cell_type": "markdown",
   "metadata": {},
   "source": [
    "## 2 layer - 64, 64 LSTM - 0.5 Dropouts - Adam Optimizer"
   ]
  },
  {
   "cell_type": "code",
   "execution_count": 17,
   "metadata": {},
   "outputs": [
    {
     "name": "stdout",
     "output_type": "stream",
     "text": [
      "_________________________________________________________________\n",
      "Layer (type)                 Output Shape              Param #   \n",
      "=================================================================\n",
      "lstm_3 (LSTM)                (None, 128, 64)           18944     \n",
      "_________________________________________________________________\n",
      "dropout_3 (Dropout)          (None, 128, 64)           0         \n",
      "_________________________________________________________________\n",
      "lstm_4 (LSTM)                (None, 64)                33024     \n",
      "_________________________________________________________________\n",
      "dropout_4 (Dropout)          (None, 64)                0         \n",
      "_________________________________________________________________\n",
      "dense_2 (Dense)              (None, 6)                 390       \n",
      "=================================================================\n",
      "Total params: 52,358\n",
      "Trainable params: 52,358\n",
      "Non-trainable params: 0\n",
      "_________________________________________________________________\n"
     ]
    }
   ],
   "source": [
    "# Initiliazing the sequential model\n",
    "model = Sequential()\n",
    "# Configuring the parameters\n",
    "model.add(LSTM(64, return_sequences=True, input_shape=(timesteps, input_dim)))\n",
    "# Adding a dropout layer\n",
    "model.add(Dropout(0.5))\n",
    "model.add(LSTM(64, input_shape=(timesteps, input_dim)))\n",
    "model.add(Dropout(0.5))\n",
    "# Adding a dense output layer with sigmoid activation\n",
    "model.add(Dense(n_classes, activation='sigmoid'))\n",
    "model.summary()"
   ]
  },
  {
   "cell_type": "code",
   "execution_count": 18,
   "metadata": {},
   "outputs": [],
   "source": [
    "# Compiling the model\n",
    "model.compile(loss='categorical_crossentropy',\n",
    "              optimizer='adam',\n",
    "              metrics=['accuracy'])"
   ]
  },
  {
   "cell_type": "code",
   "execution_count": 19,
   "metadata": {},
   "outputs": [
    {
     "name": "stdout",
     "output_type": "stream",
     "text": [
      "WARNING:tensorflow:From /home/shekhar_bavanari/anaconda3/envs/appliedai/lib/python3.6/site-packages/tensorflow/python/ops/math_ops.py:3066: to_int32 (from tensorflow.python.ops.math_ops) is deprecated and will be removed in a future version.\n",
      "Instructions for updating:\n",
      "Use tf.cast instead.\n",
      "Train on 7352 samples, validate on 2947 samples\n",
      "Epoch 1/30\n",
      "7352/7352 [==============================] - 82s 11ms/step - loss: 1.2112 - acc: 0.4751 - val_loss: 0.9592 - val_acc: 0.6278\n",
      "Epoch 2/30\n",
      "7352/7352 [==============================] - 79s 11ms/step - loss: 0.9726 - acc: 0.5803 - val_loss: 2.7623 - val_acc: 0.3522\n",
      "Epoch 3/30\n",
      "7352/7352 [==============================] - 80s 11ms/step - loss: 1.5734 - acc: 0.3534 - val_loss: 1.2776 - val_acc: 0.4815\n",
      "Epoch 4/30\n",
      "7352/7352 [==============================] - 79s 11ms/step - loss: 1.2426 - acc: 0.4853 - val_loss: 1.2370 - val_acc: 0.5124\n",
      "Epoch 5/30\n",
      "7352/7352 [==============================] - 79s 11ms/step - loss: 1.1943 - acc: 0.4815 - val_loss: 1.2562 - val_acc: 0.4540\n",
      "Epoch 6/30\n",
      "7352/7352 [==============================] - 79s 11ms/step - loss: 1.1294 - acc: 0.5180 - val_loss: 1.2879 - val_acc: 0.4347\n",
      "Epoch 7/30\n",
      "7352/7352 [==============================] - 79s 11ms/step - loss: 1.1280 - acc: 0.4820 - val_loss: 1.3626 - val_acc: 0.3916\n",
      "Epoch 8/30\n",
      "7352/7352 [==============================] - 79s 11ms/step - loss: 1.1783 - acc: 0.4826 - val_loss: 1.0410 - val_acc: 0.4852\n",
      "Epoch 9/30\n",
      "7352/7352 [==============================] - 79s 11ms/step - loss: 0.8757 - acc: 0.5613 - val_loss: 0.8238 - val_acc: 0.5999\n",
      "Epoch 10/30\n",
      "7352/7352 [==============================] - 79s 11ms/step - loss: 0.7458 - acc: 0.6170 - val_loss: 0.7896 - val_acc: 0.6054\n",
      "Epoch 11/30\n",
      "7352/7352 [==============================] - 79s 11ms/step - loss: 0.7357 - acc: 0.6315 - val_loss: 0.8228 - val_acc: 0.6057\n",
      "Epoch 12/30\n",
      "7352/7352 [==============================] - 78s 11ms/step - loss: 0.7595 - acc: 0.6236 - val_loss: 0.8274 - val_acc: 0.6091\n",
      "Epoch 13/30\n",
      "7352/7352 [==============================] - 80s 11ms/step - loss: 1.0590 - acc: 0.5148 - val_loss: 0.8886 - val_acc: 0.5127\n",
      "Epoch 14/30\n",
      "7352/7352 [==============================] - 79s 11ms/step - loss: 0.8461 - acc: 0.5860 - val_loss: 0.7980 - val_acc: 0.6115\n",
      "Epoch 15/30\n",
      "7352/7352 [==============================] - 80s 11ms/step - loss: 0.7197 - acc: 0.6394 - val_loss: 0.7881 - val_acc: 0.6057\n",
      "Epoch 16/30\n",
      "7352/7352 [==============================] - 79s 11ms/step - loss: 0.7018 - acc: 0.6485 - val_loss: 0.8083 - val_acc: 0.5338\n",
      "Epoch 17/30\n",
      "7352/7352 [==============================] - 78s 11ms/step - loss: 0.6650 - acc: 0.6700 - val_loss: 0.7474 - val_acc: 0.6142\n",
      "Epoch 18/30\n",
      "7352/7352 [==============================] - 79s 11ms/step - loss: 0.6995 - acc: 0.6484 - val_loss: 0.8339 - val_acc: 0.6169\n",
      "Epoch 19/30\n",
      "7352/7352 [==============================] - 80s 11ms/step - loss: 0.9027 - acc: 0.6089 - val_loss: 1.1253 - val_acc: 0.4547\n",
      "Epoch 20/30\n",
      "7352/7352 [==============================] - 79s 11ms/step - loss: 0.9508 - acc: 0.5616 - val_loss: 0.7503 - val_acc: 0.6417\n",
      "Epoch 21/30\n",
      "7352/7352 [==============================] - 80s 11ms/step - loss: 0.7279 - acc: 0.6568 - val_loss: 0.7214 - val_acc: 0.6763\n",
      "Epoch 22/30\n",
      "7352/7352 [==============================] - 79s 11ms/step - loss: 0.6588 - acc: 0.6972 - val_loss: 1.5079 - val_acc: 0.5215\n",
      "Epoch 23/30\n",
      "7352/7352 [==============================] - 80s 11ms/step - loss: 0.7749 - acc: 0.6508 - val_loss: 0.7485 - val_acc: 0.6742\n",
      "Epoch 24/30\n",
      "7352/7352 [==============================] - 79s 11ms/step - loss: 0.6051 - acc: 0.7344 - val_loss: 0.6470 - val_acc: 0.7136\n",
      "Epoch 25/30\n",
      "7352/7352 [==============================] - 79s 11ms/step - loss: 0.6864 - acc: 0.6836 - val_loss: 0.7310 - val_acc: 0.6566\n",
      "Epoch 26/30\n",
      "7352/7352 [==============================] - 79s 11ms/step - loss: 0.6024 - acc: 0.7248 - val_loss: 0.7477 - val_acc: 0.6664\n",
      "Epoch 27/30\n",
      "7352/7352 [==============================] - 80s 11ms/step - loss: 0.5270 - acc: 0.7727 - val_loss: 0.5794 - val_acc: 0.7618\n",
      "Epoch 28/30\n",
      "7352/7352 [==============================] - 79s 11ms/step - loss: 0.5016 - acc: 0.7916 - val_loss: 0.5397 - val_acc: 0.7910\n",
      "Epoch 29/30\n",
      "7352/7352 [==============================] - 79s 11ms/step - loss: 0.4350 - acc: 0.8300 - val_loss: 0.5163 - val_acc: 0.8164\n",
      "Epoch 30/30\n",
      "7352/7352 [==============================] - 79s 11ms/step - loss: 0.3513 - acc: 0.8819 - val_loss: 0.4477 - val_acc: 0.8483\n"
     ]
    }
   ],
   "source": [
    "# Training the model\n",
    "history = model.fit(X_train,\n",
    "          Y_train,\n",
    "          batch_size=batch_size,\n",
    "          validation_data=(X_test, Y_test),\n",
    "          epochs=epochs)"
   ]
  },
  {
   "cell_type": "code",
   "execution_count": 20,
   "metadata": {},
   "outputs": [
    {
     "data": {
      "image/png": "[encoded data removed]",
      "text/plain": [
       "<Figure size 432x288 with 1 Axes>"
      ]
     },
     "metadata": {
      "needs_background": "light"
     },
     "output_type": "display_data"
    }
   ],
   "source": [
    "epochs = 30\n",
    "\n",
    "fig,ax = plt.subplots(1,1)\n",
    "ax.set_xlabel('epoch') ; ax.set_ylabel('Categorical Crossentropy Loss')\n",
    "x = list(range(1,epochs+1))\n",
    "vy = history.history['val_loss']\n",
    "ty = history.history['loss']\n",
    "# plt_dynamic(x, vy, ty, ax)\n",
    "ax.plot(x, vy, 'b', label=\"Validation Loss\")\n",
    "ax.plot(x, ty, 'r', label=\"Train Loss\")\n",
    "plt.legend()\n",
    "plt.grid()\n",
    "fig.canvas.draw()"
   ]
  },
  {
   "cell_type": "code",
   "execution_count": 21,
   "metadata": {},
   "outputs": [
    {
     "name": "stdout",
     "output_type": "stream",
     "text": [
      "Pred                LAYING  SITTING  STANDING  WALKING  WALKING_DOWNSTAIRS  \\\n",
      "True                                                                         \n",
      "LAYING                 531        0         0        6                   0   \n",
      "SITTING                  3      392        91        3                   0   \n",
      "STANDING                 0      102       418       12                   0   \n",
      "WALKING                  0        0         2      434                  34   \n",
      "WALKING_DOWNSTAIRS       0        0         0        5                 367   \n",
      "WALKING_UPSTAIRS         0        0         0       83                  30   \n",
      "\n",
      "Pred                WALKING_UPSTAIRS  \n",
      "True                                  \n",
      "LAYING                             0  \n",
      "SITTING                            2  \n",
      "STANDING                           0  \n",
      "WALKING                           26  \n",
      "WALKING_DOWNSTAIRS                48  \n",
      "WALKING_UPSTAIRS                 358  \n"
     ]
    }
   ],
   "source": [
    "# Confusion Matrix\n",
    "print(confusion_matrix(Y_test, model.predict(X_test)))"
   ]
  },
  {
   "cell_type": "code",
   "execution_count": 22,
   "metadata": {},
   "outputs": [
    {
     "name": "stdout",
     "output_type": "stream",
     "text": [
      "2947/2947 [==============================] - 4s 1ms/step\n"
     ]
    }
   ],
   "source": [
    "score = model.evaluate(X_test, Y_test)"
   ]
  },
  {
   "cell_type": "code",
   "execution_count": 23,
   "metadata": {},
   "outputs": [
    {
     "data": {
      "text/plain": [
       "[0.44768147091664096, 0.848320325755005]"
      ]
     },
     "execution_count": 23,
     "metadata": {},
     "output_type": "execute_result"
    }
   ],
   "source": [
    "score"
   ]
  },
  {
   "cell_type": "markdown",
   "metadata": {},
   "source": [
    "# Conclusion"
   ]
  },
  {
   "cell_type": "code",
   "execution_count": 24,
   "metadata": {},
   "outputs": [],
   "source": [
    "from prettytable import PrettyTable\n",
    "    \n",
    "x = PrettyTable()\n",
    "x.field_names = [\"Layers\", \"Hidden Units\", \"Dropout\", \"Optimizer\", \"Loss\", \"Accuracy\"]"
   ]
  },
  {
   "cell_type": "code",
   "execution_count": 25,
   "metadata": {},
   "outputs": [
    {
     "name": "stdout",
     "output_type": "stream",
     "text": [
      "+---------+--------------+---------+-----------+-------+----------+\n",
      "|  Layers | Hidden Units | Dropout | Optimizer |  Loss | Accuracy |\n",
      "+---------+--------------+---------+-----------+-------+----------+\n",
      "| 1 layer |      32      |   0.5   |  rmsprop  |  0.3  |  0.909   |\n",
      "| 1 layer |      64      |   0.5   |  rmsprop  |  0.47 |  0.902   |\n",
      "| 1 layer |      64      |   0.3   |  rmsprop  | 0.327 |  0.9077  |\n",
      "| 2 layer |    32-32     |   0.3   |  rmsprop  | 0.307 |  0.9073  |\n",
      "| 2 layer |    32-32     |   0.3   |    adam   | 0.332 |  0.9138  |\n",
      "| 2 layer |    64-64     |   0.5   |    adam   | 0.447 |  0.848   |\n",
      "+---------+--------------+---------+-----------+-------+----------+\n"
     ]
    }
   ],
   "source": [
    "x.add_row([\"1 layer\", 32, 0.5, \"rmsprop\", 0.30, 0.909])\n",
    "x.add_row([\"1 layer\", 64, 0.5, \"rmsprop\", 0.47, 0.902])\n",
    "x.add_row([\"1 layer\", 64, 0.3, \"rmsprop\", 0.327, 0.9077])\n",
    "x.add_row([\"2 layer\", \"32-32\", 0.3, \"rmsprop\", 0.307, 0.9073])\n",
    "x.add_row([\"2 layer\", \"32-32\", 0.3, \"adam\", 0.332, 0.9138])\n",
    "x.add_row([\"2 layer\", \"64-64\", 0.5, \"adam\", 0.447, 0.848])\n",
    "print(x)"
   ]
  },
  {
   "cell_type": "markdown",
   "metadata": {},
   "source": [
    "## Procedure followed\n",
    "\n",
    "    - Loaded training and testing data.\n",
    "    - Defined multiple LSTM architectures, trained them and measured loss."
   ]
  }
 ],
 "metadata": {
  "kernelspec": {
   "display_name": "Python 3",
   "language": "python",
   "name": "python3"
  },
  "language_info": {
   "codemirror_mode": {
    "name": "ipython",
    "version": 3
   },
   "file_extension": ".py",
   "mimetype": "text/x-python",
   "name": "python",
   "nbconvert_exporter": "python",
   "pygments_lexer": "ipython3",
   "version": "3.6.8"
  }
 },
 "nbformat": 4,
 "nbformat_minor": 2
}
